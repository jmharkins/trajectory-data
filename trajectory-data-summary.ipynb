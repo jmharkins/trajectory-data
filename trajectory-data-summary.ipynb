{
 "cells": [
  {
   "cell_type": "code",
   "execution_count": 2,
   "metadata": {
    "collapsed": true
   },
   "outputs": [],
   "source": [
    "import pandas as pd\n",
    "import numpy as np"
   ]
  },
  {
   "cell_type": "code",
   "execution_count": 3,
   "metadata": {},
   "outputs": [
    {
     "name": "stdout",
     "output_type": "stream",
     "text": [
      "Populating the interactive namespace from numpy and matplotlib\n"
     ]
    }
   ],
   "source": [
    "%pylab inline"
   ]
  },
  {
   "cell_type": "markdown",
   "metadata": {},
   "source": [
    "## Exploring User 010's labeled trips \n",
    "Using `traj_parse.py` on the GPS dataset, I extracted a single user's GPS coordinates, labeled with the transit mode, into a csv: `010_trip_labeled.csv`. The purpose of this notebook is to do some initial exploring of the dataset"
   ]
  },
  {
   "cell_type": "markdown",
   "metadata": {},
   "source": [
    "### Read in data using Pandas\n",
    "Add a timestamp column and remove any coordinates without a trip ID label"
   ]
  },
  {
   "cell_type": "code",
   "execution_count": 4,
   "metadata": {
    "collapsed": true
   },
   "outputs": [],
   "source": [
    "data_cols = ['latitude', 'longitude',\n",
    "             'height', 'days_float',\n",
    "             'rec_date', 'rec_time',\n",
    "             'timestamp', 'user_id',\n",
    "             'trip_id', 'transit']\n",
    "tpoints = (pd.read_csv('010_trip_labeled.csv',\n",
    "                       index_col=0,\n",
    "                       names=data_cols,\n",
    "                       header=0)\n",
    "             .drop('days_float' ,axis=1)\n",
    "             .assign(timestamp = lambda x: pd.to_datetime(x.timestamp))\n",
    "             .sort_values(['trip_id','timestamp'])\n",
    "          )\n",
    "tpoints = tpoints.loc[(~tpoints.trip_id.isnull())].copy()"
   ]
  },
  {
   "cell_type": "markdown",
   "metadata": {},
   "source": [
    "### Check out data"
   ]
  },
  {
   "cell_type": "code",
   "execution_count": 5,
   "metadata": {},
   "outputs": [
    {
     "data": {
      "text/html": [
       "<div>\n",
       "<style>\n",
       "    .dataframe thead tr:only-child th {\n",
       "        text-align: right;\n",
       "    }\n",
       "\n",
       "    .dataframe thead th {\n",
       "        text-align: left;\n",
       "    }\n",
       "\n",
       "    .dataframe tbody tr th {\n",
       "        vertical-align: top;\n",
       "    }\n",
       "</style>\n",
       "<table border=\"1\" class=\"dataframe\">\n",
       "  <thead>\n",
       "    <tr style=\"text-align: right;\">\n",
       "      <th></th>\n",
       "      <th>latitude</th>\n",
       "      <th>longitude</th>\n",
       "      <th>height</th>\n",
       "      <th>rec_date</th>\n",
       "      <th>rec_time</th>\n",
       "      <th>timestamp</th>\n",
       "      <th>user_id</th>\n",
       "      <th>trip_id</th>\n",
       "      <th>transit</th>\n",
       "    </tr>\n",
       "  </thead>\n",
       "  <tbody>\n",
       "    <tr>\n",
       "      <th>1</th>\n",
       "      <td>39.894178</td>\n",
       "      <td>116.318200</td>\n",
       "      <td>-777</td>\n",
       "      <td>2008-03-28</td>\n",
       "      <td>14:54:40</td>\n",
       "      <td>2008-03-28 14:54:40</td>\n",
       "      <td>10</td>\n",
       "      <td>1.0</td>\n",
       "      <td>train</td>\n",
       "    </tr>\n",
       "    <tr>\n",
       "      <th>2</th>\n",
       "      <td>39.894505</td>\n",
       "      <td>116.321132</td>\n",
       "      <td>-777</td>\n",
       "      <td>2008-03-28</td>\n",
       "      <td>14:55:14</td>\n",
       "      <td>2008-03-28 14:55:14</td>\n",
       "      <td>10</td>\n",
       "      <td>1.0</td>\n",
       "      <td>train</td>\n",
       "    </tr>\n",
       "    <tr>\n",
       "      <th>3</th>\n",
       "      <td>39.894953</td>\n",
       "      <td>116.326452</td>\n",
       "      <td>-777</td>\n",
       "      <td>2008-03-28</td>\n",
       "      <td>14:56:13</td>\n",
       "      <td>2008-03-28 14:56:13</td>\n",
       "      <td>10</td>\n",
       "      <td>1.0</td>\n",
       "      <td>train</td>\n",
       "    </tr>\n",
       "    <tr>\n",
       "      <th>4</th>\n",
       "      <td>39.894600</td>\n",
       "      <td>116.332542</td>\n",
       "      <td>-777</td>\n",
       "      <td>2008-03-28</td>\n",
       "      <td>14:57:12</td>\n",
       "      <td>2008-03-28 14:57:12</td>\n",
       "      <td>10</td>\n",
       "      <td>1.0</td>\n",
       "      <td>train</td>\n",
       "    </tr>\n",
       "    <tr>\n",
       "      <th>5</th>\n",
       "      <td>39.889622</td>\n",
       "      <td>116.337040</td>\n",
       "      <td>-777</td>\n",
       "      <td>2008-03-28</td>\n",
       "      <td>14:58:11</td>\n",
       "      <td>2008-03-28 14:58:11</td>\n",
       "      <td>10</td>\n",
       "      <td>1.0</td>\n",
       "      <td>train</td>\n",
       "    </tr>\n",
       "    <tr>\n",
       "      <th>6</th>\n",
       "      <td>39.882090</td>\n",
       "      <td>116.338353</td>\n",
       "      <td>-777</td>\n",
       "      <td>2008-03-28</td>\n",
       "      <td>14:59:10</td>\n",
       "      <td>2008-03-28 14:59:10</td>\n",
       "      <td>10</td>\n",
       "      <td>1.0</td>\n",
       "      <td>train</td>\n",
       "    </tr>\n",
       "    <tr>\n",
       "      <th>7</th>\n",
       "      <td>39.873873</td>\n",
       "      <td>116.338455</td>\n",
       "      <td>-777</td>\n",
       "      <td>2008-03-28</td>\n",
       "      <td>15:00:10</td>\n",
       "      <td>2008-03-28 15:00:10</td>\n",
       "      <td>10</td>\n",
       "      <td>1.0</td>\n",
       "      <td>train</td>\n",
       "    </tr>\n",
       "    <tr>\n",
       "      <th>8</th>\n",
       "      <td>39.865182</td>\n",
       "      <td>116.338058</td>\n",
       "      <td>-777</td>\n",
       "      <td>2008-03-28</td>\n",
       "      <td>15:01:09</td>\n",
       "      <td>2008-03-28 15:01:09</td>\n",
       "      <td>10</td>\n",
       "      <td>1.0</td>\n",
       "      <td>train</td>\n",
       "    </tr>\n",
       "    <tr>\n",
       "      <th>9</th>\n",
       "      <td>39.855403</td>\n",
       "      <td>116.337710</td>\n",
       "      <td>-777</td>\n",
       "      <td>2008-03-28</td>\n",
       "      <td>15:02:08</td>\n",
       "      <td>2008-03-28 15:02:08</td>\n",
       "      <td>10</td>\n",
       "      <td>1.0</td>\n",
       "      <td>train</td>\n",
       "    </tr>\n",
       "    <tr>\n",
       "      <th>10</th>\n",
       "      <td>39.844532</td>\n",
       "      <td>116.334362</td>\n",
       "      <td>-777</td>\n",
       "      <td>2008-03-28</td>\n",
       "      <td>15:03:07</td>\n",
       "      <td>2008-03-28 15:03:07</td>\n",
       "      <td>10</td>\n",
       "      <td>1.0</td>\n",
       "      <td>train</td>\n",
       "    </tr>\n",
       "  </tbody>\n",
       "</table>\n",
       "</div>"
      ],
      "text/plain": [
       "     latitude   longitude  height    rec_date  rec_time           timestamp  \\\n",
       "1   39.894178  116.318200    -777  2008-03-28  14:54:40 2008-03-28 14:54:40   \n",
       "2   39.894505  116.321132    -777  2008-03-28  14:55:14 2008-03-28 14:55:14   \n",
       "3   39.894953  116.326452    -777  2008-03-28  14:56:13 2008-03-28 14:56:13   \n",
       "4   39.894600  116.332542    -777  2008-03-28  14:57:12 2008-03-28 14:57:12   \n",
       "5   39.889622  116.337040    -777  2008-03-28  14:58:11 2008-03-28 14:58:11   \n",
       "6   39.882090  116.338353    -777  2008-03-28  14:59:10 2008-03-28 14:59:10   \n",
       "7   39.873873  116.338455    -777  2008-03-28  15:00:10 2008-03-28 15:00:10   \n",
       "8   39.865182  116.338058    -777  2008-03-28  15:01:09 2008-03-28 15:01:09   \n",
       "9   39.855403  116.337710    -777  2008-03-28  15:02:08 2008-03-28 15:02:08   \n",
       "10  39.844532  116.334362    -777  2008-03-28  15:03:07 2008-03-28 15:03:07   \n",
       "\n",
       "    user_id  trip_id transit  \n",
       "1        10      1.0   train  \n",
       "2        10      1.0   train  \n",
       "3        10      1.0   train  \n",
       "4        10      1.0   train  \n",
       "5        10      1.0   train  \n",
       "6        10      1.0   train  \n",
       "7        10      1.0   train  \n",
       "8        10      1.0   train  \n",
       "9        10      1.0   train  \n",
       "10       10      1.0   train  "
      ]
     },
     "execution_count": 5,
     "metadata": {},
     "output_type": "execute_result"
    }
   ],
   "source": [
    "tpoints.head(10)"
   ]
  },
  {
   "cell_type": "markdown",
   "metadata": {},
   "source": [
    "How many trips have more than 1 transit mode? (None)"
   ]
  },
  {
   "cell_type": "code",
   "execution_count": 6,
   "metadata": {},
   "outputs": [
    {
     "data": {
      "text/plain": [
       "1"
      ]
     },
     "execution_count": 6,
     "metadata": {},
     "output_type": "execute_result"
    }
   ],
   "source": [
    "(tpoints.groupby('trip_id').transit.nunique().max())"
   ]
  },
  {
   "cell_type": "markdown",
   "metadata": {},
   "source": [
    "Add time to next record within trip as feature on data"
   ]
  },
  {
   "cell_type": "code",
   "execution_count": 7,
   "metadata": {
    "collapsed": true
   },
   "outputs": [],
   "source": [
    "tpoints['time_delta'] = (tpoints.timestamp - \\\n",
    "                         tpoints.groupby(['trip_id']).timestamp.shift(1))\n",
    "tpoints['dt_seconds'] = tpoints['time_delta'].dt.seconds"
   ]
  },
  {
   "cell_type": "markdown",
   "metadata": {},
   "source": [
    "Looks like mean and median delta time to next record are far apart. A few really large DT's skewing the picture"
   ]
  },
  {
   "cell_type": "code",
   "execution_count": 8,
   "metadata": {},
   "outputs": [
    {
     "name": "stdout",
     "output_type": "stream",
     "text": [
      "390.494199536 60.0\n"
     ]
    }
   ],
   "source": [
    "trip_dt = tpoints.groupby(['trip_id']).dt_seconds.max()\n",
    "print trip_dt.mean(), trip_dt.median()"
   ]
  },
  {
   "cell_type": "code",
   "execution_count": 9,
   "metadata": {},
   "outputs": [
    {
     "data": {
      "text/plain": [
       "0.0       1.0\n",
       "0.1       2.0\n",
       "0.2       2.0\n",
       "0.3       4.0\n",
       "0.4      48.0\n",
       "0.5      60.0\n",
       "0.6      77.0\n",
       "0.7     112.0\n",
       "0.8     205.0\n",
       "0.9    1060.0\n",
       "Name: dt_seconds, dtype: float64"
      ]
     },
     "execution_count": 9,
     "metadata": {},
     "output_type": "execute_result"
    }
   ],
   "source": [
    "trip_dt.quantile(np.arange(0,1,0.1))"
   ]
  },
  {
   "cell_type": "markdown",
   "metadata": {},
   "source": [
    "**Summary info on delta time, grouped by transit type**"
   ]
  },
  {
   "cell_type": "code",
   "execution_count": 10,
   "metadata": {},
   "outputs": [
    {
     "data": {
      "text/html": [
       "<div>\n",
       "<style>\n",
       "    .dataframe thead tr:only-child th {\n",
       "        text-align: right;\n",
       "    }\n",
       "\n",
       "    .dataframe thead th {\n",
       "        text-align: left;\n",
       "    }\n",
       "\n",
       "    .dataframe tbody tr th {\n",
       "        vertical-align: top;\n",
       "    }\n",
       "</style>\n",
       "<table border=\"1\" class=\"dataframe\">\n",
       "  <thead>\n",
       "    <tr style=\"text-align: right;\">\n",
       "      <th></th>\n",
       "      <th>mean</th>\n",
       "      <th>median</th>\n",
       "      <th>max</th>\n",
       "      <th>min</th>\n",
       "      <th>count</th>\n",
       "    </tr>\n",
       "    <tr>\n",
       "      <th>transit</th>\n",
       "      <th></th>\n",
       "      <th></th>\n",
       "      <th></th>\n",
       "      <th></th>\n",
       "      <th></th>\n",
       "    </tr>\n",
       "  </thead>\n",
       "  <tbody>\n",
       "    <tr>\n",
       "      <th>airplane</th>\n",
       "      <td>3699.000000</td>\n",
       "      <td>3699.0</td>\n",
       "      <td>7394.0</td>\n",
       "      <td>4.0</td>\n",
       "      <td>2</td>\n",
       "    </tr>\n",
       "    <tr>\n",
       "      <th>bus</th>\n",
       "      <td>73.470588</td>\n",
       "      <td>64.5</td>\n",
       "      <td>205.0</td>\n",
       "      <td>2.0</td>\n",
       "      <td>34</td>\n",
       "    </tr>\n",
       "    <tr>\n",
       "      <th>car</th>\n",
       "      <td>119.000000</td>\n",
       "      <td>119.0</td>\n",
       "      <td>119.0</td>\n",
       "      <td>119.0</td>\n",
       "      <td>1</td>\n",
       "    </tr>\n",
       "    <tr>\n",
       "      <th>subway</th>\n",
       "      <td>90.042553</td>\n",
       "      <td>59.0</td>\n",
       "      <td>813.0</td>\n",
       "      <td>2.0</td>\n",
       "      <td>47</td>\n",
       "    </tr>\n",
       "    <tr>\n",
       "      <th>taxi</th>\n",
       "      <td>76.875000</td>\n",
       "      <td>68.5</td>\n",
       "      <td>493.0</td>\n",
       "      <td>2.0</td>\n",
       "      <td>96</td>\n",
       "    </tr>\n",
       "    <tr>\n",
       "      <th>train</th>\n",
       "      <td>1418.040404</td>\n",
       "      <td>917.0</td>\n",
       "      <td>29290.0</td>\n",
       "      <td>2.0</td>\n",
       "      <td>99</td>\n",
       "    </tr>\n",
       "    <tr>\n",
       "      <th>walk</th>\n",
       "      <td>41.381579</td>\n",
       "      <td>3.0</td>\n",
       "      <td>669.0</td>\n",
       "      <td>1.0</td>\n",
       "      <td>152</td>\n",
       "    </tr>\n",
       "  </tbody>\n",
       "</table>\n",
       "</div>"
      ],
      "text/plain": [
       "                 mean  median      max    min  count\n",
       "transit                                             \n",
       "airplane  3699.000000  3699.0   7394.0    4.0      2\n",
       "bus         73.470588    64.5    205.0    2.0     34\n",
       "car        119.000000   119.0    119.0  119.0      1\n",
       "subway      90.042553    59.0    813.0    2.0     47\n",
       "taxi        76.875000    68.5    493.0    2.0     96\n",
       "train     1418.040404   917.0  29290.0    2.0     99\n",
       "walk        41.381579     3.0    669.0    1.0    152"
      ]
     },
     "execution_count": 10,
     "metadata": {},
     "output_type": "execute_result"
    }
   ],
   "source": [
    "(tpoints.groupby(['transit','trip_id'])\n",
    "        .time_delta\n",
    "        .max()\n",
    "        .dt.seconds\n",
    "        .groupby(level=0).agg(['mean','median','max','min','count']))"
   ]
  },
  {
   "cell_type": "markdown",
   "metadata": {},
   "source": [
    "### Analyze distance/speed"
   ]
  },
  {
   "cell_type": "markdown",
   "metadata": {},
   "source": [
    "**Compute distance between points**  \n",
    "I adapted the answer in [this SO question](https://stackoverflow.com/questions/4913349/haversine-formula-in-python-bearing-and-distance-between-two-gps-points) to use numpy and pandas' vectorized operations/"
   ]
  },
  {
   "cell_type": "code",
   "execution_count": 11,
   "metadata": {
    "collapsed": true
   },
   "outputs": [],
   "source": [
    "# a DF holding the coordinates in radians\n",
    "rad_coord = np.radians(tpoints[['latitude','longitude']])\n",
    "# same DF with the values shifted so that each set of coordinates represents the previous point\n",
    "# in a given trip for a given index in rad_coord/tpoints\n",
    "prev_rad_coord = np.radians(tpoints.groupby('trip_id').shift(1)[['latitude','longitude']])\n",
    "# compute the change in each coordinate in radians, from point to point"
   ]
  },
  {
   "cell_type": "code",
   "execution_count": 12,
   "metadata": {
    "collapsed": true
   },
   "outputs": [],
   "source": [
    "# use haversine formula to compute distance in miles\n",
    "lat1 = prev_rad_coord['latitude']\n",
    "lon1 = prev_rad_coord['longitude']\n",
    "lat2 = rad_coord['latitude']\n",
    "lon2 = rad_coord['longitude']\n",
    "dlon = lon2 - lon1 \n",
    "dlat = lat2 - lat1 \n",
    "a = np.sin(dlat/2)**2 + np.cos(lat1) * np.cos(lat2) * np.sin(dlon/2)**2\n",
    "# 3965 == radius of the earth in miles - sub 6371 for km distance\n",
    "delta_dist = 2 * np.arcsin(np.sqrt(a)) * 3956"
   ]
  },
  {
   "cell_type": "markdown",
   "metadata": {},
   "source": [
    "Add this delta in distance to the original DF, and use it to get speed in MPH"
   ]
  },
  {
   "cell_type": "code",
   "execution_count": 13,
   "metadata": {
    "collapsed": true
   },
   "outputs": [],
   "source": [
    "tpoints['delta_dist'] = delta_dist"
   ]
  },
  {
   "cell_type": "code",
   "execution_count": 14,
   "metadata": {
    "collapsed": true
   },
   "outputs": [],
   "source": [
    "tpoints['speed'] = tpoints['delta_dist'] / (tpoints['dt_seconds'] / 3600. )"
   ]
  },
  {
   "cell_type": "markdown",
   "metadata": {},
   "source": [
    "**Examine speed**  \n",
    "Take train trips and summarize maximum speed over any single trip"
   ]
  },
  {
   "cell_type": "code",
   "execution_count": 15,
   "metadata": {},
   "outputs": [
    {
     "data": {
      "text/plain": [
       "count     99.000000\n",
       "mean            inf\n",
       "std             NaN\n",
       "min       30.238153\n",
       "25%       78.702378\n",
       "50%      152.097054\n",
       "75%      187.840785\n",
       "max             inf\n",
       "Name: speed, dtype: float64"
      ]
     },
     "execution_count": 15,
     "metadata": {},
     "output_type": "execute_result"
    }
   ],
   "source": [
    "tpoints.query('transit == \"train\"').groupby('trip_id').speed.max().describe()"
   ]
  },
  {
   "cell_type": "markdown",
   "metadata": {},
   "source": [
    "### Pick out an example trip"
   ]
  },
  {
   "cell_type": "markdown",
   "metadata": {},
   "source": [
    "I selected some example trips by finding ones that lasted between 5 & 15 minutes and had a max speed less than 15 MPH to keep things straightforward."
   ]
  },
  {
   "cell_type": "code",
   "execution_count": 31,
   "metadata": {
    "collapsed": true
   },
   "outputs": [],
   "source": [
    "trip_start = tpoints.groupby('trip_id').timestamp.transform('first')\n",
    "trip_end = tpoints.groupby('trip_id').timestamp.transform('last')\n",
    "trip_time = trip_end - trip_start"
   ]
  },
  {
   "cell_type": "code",
   "execution_count": 63,
   "metadata": {
    "collapsed": true
   },
   "outputs": [],
   "source": [
    "reg_walks = tpoints.groupby('trip_id').speed.transform('max') <= 15\n",
    "min_time = ((trip_time.dt.seconds / 60.) >= 5) & ((trip_time.dt.seconds / 60.) <= 15)"
   ]
  },
  {
   "cell_type": "markdown",
   "metadata": {},
   "source": [
    "Find the IDs of the trips that match these criteria, pick one, and\n",
    "and make a series to find observations matching that trip ID"
   ]
  },
  {
   "cell_type": "code",
   "execution_count": 64,
   "metadata": {
    "collapsed": true
   },
   "outputs": [],
   "source": [
    "match_walks = tpoints.loc[reg_walks & min_time,'trip_id'].unique()\n",
    "ex_walk = tpoints.trip_id == match_walks[-1]"
   ]
  },
  {
   "cell_type": "code",
   "execution_count": 65,
   "metadata": {},
   "outputs": [
    {
     "data": {
      "text/plain": [
       "29"
      ]
     },
     "execution_count": 65,
     "metadata": {},
     "output_type": "execute_result"
    }
   ],
   "source": [
    "# how many trips matching these criteria? \n",
    "print len(match_walks)"
   ]
  },
  {
   "cell_type": "code",
   "execution_count": 74,
   "metadata": {},
   "outputs": [
    {
     "name": "stdout",
     "output_type": "stream",
     "text": [
      "example trip: 423.0\n",
      "number of GPS observations: 206\n"
     ]
    }
   ],
   "source": [
    "# ID + length of our chosen trip\n",
    "print 'example trip:', match_walks[-1]\n",
    "print 'number of GPS observations:', len(tpoints.loc[ex_walk])"
   ]
  },
  {
   "cell_type": "markdown",
   "metadata": {},
   "source": [
    "### Plot it\n",
    "I'll want to compare some similar trips if I compute similarity, so having a convenient way to visually represent them would be useful. Setting aside geo and/or plotting libraries for now in Python (esp. given narrow geographic scope of individual trips - need a projection a little less)\n"
   ]
  },
  {
   "cell_type": "markdown",
   "metadata": {},
   "source": [
    "First, transform the raw coordinates for ease of pltting without a geo-library"
   ]
  },
  {
   "cell_type": "code",
   "execution_count": 68,
   "metadata": {
    "collapsed": true
   },
   "outputs": [],
   "source": [
    "adj_lat = tpoints.loc[ex_walk,'latitude'] - tpoints.loc[ex_walk,'latitude'].mean()\n",
    "adj_lon = tpoints.loc[ex_walk,'longitude'] - tpoints.loc[ex_walk,'longitude'].mean()"
   ]
  },
  {
   "cell_type": "markdown",
   "metadata": {},
   "source": [
    "Scale the transformed coordinates and plot"
   ]
  },
  {
   "cell_type": "code",
   "execution_count": 70,
   "metadata": {},
   "outputs": [
    {
     "data": {
      "text/plain": [
       "<matplotlib.axes._subplots.AxesSubplot at 0x1141c2690>"
      ]
     },
     "execution_count": 70,
     "metadata": {},
     "output_type": "execute_result"
    },
    {
     "data": {
      "image/png": "[encoded data removed]",
      "text/plain": [
       "<matplotlib.figure.Figure at 0x1136f4750>"
      ]
     },
     "metadata": {},
     "output_type": "display_data"
    }
   ],
   "source": [
    "pd.concat([(adj_lat * 1000),(adj_lon * 1000)],axis=1).plot(x='longitude',y='latitude',marker='o')"
   ]
  }
 ],
 "metadata": {
  "anaconda-cloud": {},
  "kernelspec": {
   "display_name": "Python [conda env:traj_dist]",
   "language": "python",
   "name": "conda-env-traj_dist-py"
  },
  "language_info": {
   "codemirror_mode": {
    "name": "ipython",
    "version": 2
   },
   "file_extension": ".py",
   "mimetype": "text/x-python",
   "name": "python",
   "nbconvert_exporter": "python",
   "pygments_lexer": "ipython2",
   "version": "2.7.13"
  }
 },
 "nbformat": 4,
 "nbformat_minor": 1
}
